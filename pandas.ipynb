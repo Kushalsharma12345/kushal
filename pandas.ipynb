{
  "cells": [
    {
      "cell_type": "markdown",
      "metadata": {
        "id": "view-in-github",
        "colab_type": "text"
      },
      "source": [
        "<a href=\"https://colab.research.google.com/github/Kushalsharma12345/kushal/blob/main/pandas.ipynb\" target=\"_parent\"><img src=\"https://colab.research.google.com/assets/colab-badge.svg\" alt=\"Open In Colab\"/></a>"
      ]
    },
    {
      "cell_type": "code",
      "execution_count": null,
      "metadata": {
        "colab": {
          "base_uri": "https://localhost:8080/"
        },
        "id": "5iJy0t4zZsrl",
        "outputId": "0bb51a6b-bccb-4759-e1c8-e24791f20333"
      },
      "outputs": [
        {
          "name": "stdout",
          "output_type": "stream",
          "text": [
            "Series([], dtype: float64)\n"
          ]
        },
        {
          "name": "stderr",
          "output_type": "stream",
          "text": [
            "<ipython-input-2-7114e1bb196c>:2: FutureWarning: The default dtype for empty Series will be 'object' instead of 'float64' in a future version. Specify a dtype explicitly to silence this warning.\n",
            "  s = pd.Series()\n"
          ]
        }
      ],
      "source": [
        "import pandas as pd\n",
        "s = pd.Series()\n",
        "print(s)\n"
      ]
    },
    {
      "cell_type": "code",
      "execution_count": null,
      "metadata": {
        "colab": {
          "base_uri": "https://localhost:8080/"
        },
        "id": "iQ9omF8CaBg1",
        "outputId": "bed60193-fd20-483b-d248-3be17273b44a"
      },
      "outputs": [
        {
          "name": "stdout",
          "output_type": "stream",
          "text": [
            "0    a\n",
            "1    b\n",
            "2    c\n",
            "3    d\n",
            "dtype: object\n"
          ]
        }
      ],
      "source": [
        "import pandas as pd\n",
        "import numpy as np\n",
        "npdata = np.array(['a','b','c','d'])\n",
        "s = pd.Series(npdata)\n",
        "print(s)"
      ]
    },
    {
      "cell_type": "code",
      "execution_count": null,
      "metadata": {
        "colab": {
          "base_uri": "https://localhost:8080/"
        },
        "id": "BXuUsfSMaeB2",
        "outputId": "7a4884c7-1f30-4369-b215-f15ab98ada2a"
      },
      "outputs": [
        {
          "name": "stdout",
          "output_type": "stream",
          "text": [
            "a    0.0\n",
            "b    1.0\n",
            "c    2.0\n",
            "dtype: float64\n"
          ]
        }
      ],
      "source": [
        "import pandas as pd\n",
        "import numpy as np\n",
        "data = {'a' : 0., 'b' : 1., 'c' : 2.}\n",
        "s = pd.Series(data)\n",
        "print (s)"
      ]
    },
    {
      "cell_type": "code",
      "execution_count": null,
      "metadata": {
        "colab": {
          "base_uri": "https://localhost:8080/"
        },
        "id": "0z_KQatjbGMk",
        "outputId": "cabfdda2-715b-4c1b-ba9b-ae3d4a12e24e"
      },
      "outputs": [
        {
          "name": "stdout",
          "output_type": "stream",
          "text": [
            "b    1.0\n",
            "c    2.0\n",
            "d    NaN\n",
            "a    0.0\n",
            "dtype: float64\n"
          ]
        }
      ],
      "source": [
        "import pandas as pd\n",
        "import numpy as np\n",
        "data = {'a' : 0., 'b' : 1., 'c' : 2.}\n",
        "s = pd.Series(data,index=['b','c','d','a']) \n",
        "print(s)"
      ]
    },
    {
      "cell_type": "code",
      "execution_count": null,
      "metadata": {
        "colab": {
          "background_save": true
        },
        "id": "oH74EPAcbuRw",
        "outputId": "c98241ec-4704-43e0-91ca-b261578dcadd"
      },
      "outputs": [
        {
          "name": "stdout",
          "output_type": "stream",
          "text": [
            "0    5\n",
            "1    5\n",
            "2    5\n",
            "3    5\n",
            "dtype: int64\n"
          ]
        }
      ],
      "source": [
        "import pandas as pd\n",
        "import numpy as np\n",
        "s = pd.Series(5, index=[0, 1, 2, 3])\n",
        "Print(s)"
      ]
    },
    {
      "cell_type": "code",
      "execution_count": null,
      "metadata": {
        "id": "2Pz_wrHMdljz",
        "colab": {
          "base_uri": "https://localhost:8080/"
        },
        "outputId": "30811cb6-a393-4c6f-d50b-82991225bdf2"
      },
      "outputs": [
        {
          "output_type": "stream",
          "name": "stdout",
          "text": [
            "1\n",
            "a    1\n",
            "b    2\n",
            "c    3\n",
            "dtype: int64\n",
            "c    3\n",
            "d    4\n",
            "e    5\n",
            "dtype: int64\n"
          ]
        }
      ],
      "source": [
        "import pandas as pd\n",
        "s = pd.Series([1,2,3,4,5],index = ['a','b','c','d','e'])\n",
        "print(s[0])\n",
        "print(s[:3])\n",
        "print(s[-3:])"
      ]
    },
    {
      "cell_type": "code",
      "source": [
        "import pandas as pd\n",
        "s = pd.Series([1,2,3,4,5],index = ['a','b','c','d','e'])\n",
        "print(s['a'])\n",
        "import pandas as pd\n",
        "s = pd.Series([1,2,3,4,5],index = ['a','b','c','d','e'])\n",
        "print(s[['a','c','d']] )\n",
        "print (s['d'])"
      ],
      "metadata": {
        "colab": {
          "base_uri": "https://localhost:8080/"
        },
        "id": "84t59PJ-xuZc",
        "outputId": "0882b550-f45f-4fb0-ed44-d7644ee68f95"
      },
      "execution_count": null,
      "outputs": [
        {
          "output_type": "stream",
          "name": "stdout",
          "text": [
            "1\n",
            "a    1\n",
            "c    3\n",
            "d    4\n",
            "dtype: int64\n",
            "4\n"
          ]
        }
      ]
    },
    {
      "cell_type": "code",
      "source": [
        "import pandas as pd\n",
        "df = pd.DataFrame()\n",
        "print(df)"
      ],
      "metadata": {
        "colab": {
          "base_uri": "https://localhost:8080/"
        },
        "id": "1KmUa1-lyINx",
        "outputId": "d5d844e0-509d-4320-a896-a834a4ca5ef6"
      },
      "execution_count": null,
      "outputs": [
        {
          "output_type": "stream",
          "name": "stdout",
          "text": [
            "Empty DataFrame\n",
            "Columns: []\n",
            "Index: []\n"
          ]
        }
      ]
    },
    {
      "cell_type": "code",
      "source": [
        "import pandas as pd\n",
        "data=[1,2,3,4,5]\n",
        "df= pd.DataFrame(data)\n",
        "print(df)\n"
      ],
      "metadata": {
        "colab": {
          "base_uri": "https://localhost:8080/"
        },
        "id": "ITOBByRGy2wG",
        "outputId": "d85a1c31-7e96-4f46-8d08-5602082770ee"
      },
      "execution_count": null,
      "outputs": [
        {
          "output_type": "stream",
          "name": "stdout",
          "text": [
            "   0\n",
            "0  1\n",
            "1  2\n",
            "2  3\n",
            "3  4\n",
            "4  5\n"
          ]
        }
      ]
    },
    {
      "cell_type": "code",
      "source": [
        "import pandas as pd\n",
        "data=[['Alex',10],['Bob',12],['Clarke',13]]\n",
        "df=pd.DataFrame(data,columns=['Name','Age'])\n",
        "print(df)"
      ],
      "metadata": {
        "colab": {
          "base_uri": "https://localhost:8080/"
        },
        "id": "540BYoVAzGfc",
        "outputId": "8661069c-d59a-4c9e-856d-b370a9c1b04a"
      },
      "execution_count": null,
      "outputs": [
        {
          "output_type": "stream",
          "name": "stdout",
          "text": [
            "     Name  Age\n",
            "0    Alex   10\n",
            "1     Bob   12\n",
            "2  Clarke   13\n"
          ]
        }
      ]
    },
    {
      "cell_type": "code",
      "source": [
        "import pandas as pd\n",
        "data=[{'a': 1, 'b': 2},{'a': 5, 'b': 10, 'c': 20}]\n",
        "df=pd.DataFrame(data)\n",
        "print(df)"
      ],
      "metadata": {
        "colab": {
          "base_uri": "https://localhost:8080/"
        },
        "id": "PYsIStS9zih8",
        "outputId": "2659416f-2e91-47c7-e48a-b0fa0066c2e4"
      },
      "execution_count": null,
      "outputs": [
        {
          "output_type": "stream",
          "name": "stdout",
          "text": [
            "   a   b     c\n",
            "0  1   2   NaN\n",
            "1  5  10  20.0\n"
          ]
        }
      ]
    },
    {
      "cell_type": "code",
      "source": [
        "import pandas as pd\n",
        "data=[{'a': 1, 'b': 2},{'a': 5, 'b': 10, 'c': 20}]\n",
        "df=pd.DataFrame(data, index=['first', 'second'])\n",
        "print(df)"
      ],
      "metadata": {
        "colab": {
          "base_uri": "https://localhost:8080/"
        },
        "id": "F7Fi6HQOzqCX",
        "outputId": "0d2ce458-acb3-498b-b630-a19a3bad4eb8"
      },
      "execution_count": null,
      "outputs": [
        {
          "output_type": "stream",
          "name": "stdout",
          "text": [
            "        a   b     c\n",
            "first   1   2   NaN\n",
            "second  5  10  20.0\n"
          ]
        }
      ]
    },
    {
      "cell_type": "code",
      "source": [
        "import pandas as pd\n",
        "d={'one' : pd.Series([1, 2, 3], index=['a', 'b', 'c']),\n",
        "'two': pd.Series([1, 2, 3, 4], index=['a', 'b', 'c', 'd'])}\n",
        "df= pd.DataFrame(d)\n",
        "print(df )"
      ],
      "metadata": {
        "colab": {
          "base_uri": "https://localhost:8080/"
        },
        "id": "ULQDtFsCzxeT",
        "outputId": "abdd104d-3282-40cd-f1fe-1a8a98025c53"
      },
      "execution_count": null,
      "outputs": [
        {
          "output_type": "stream",
          "name": "stdout",
          "text": [
            "   one  two\n",
            "a  1.0    1\n",
            "b  2.0    2\n",
            "c  3.0    3\n",
            "d  NaN    4\n"
          ]
        }
      ]
    },
    {
      "cell_type": "code",
      "source": [
        "import pandas as pd\n",
        "d= {'one' : pd.Series([1, 2, 3], index=['a', 'b', 'c']),\n",
        "'two' : pd.Series([1, 2, 3, 4], index=['a', 'b', 'c', 'd'])}\n",
        "df= pd.DataFrame(d)\n",
        "print(df ['one'])"
      ],
      "metadata": {
        "colab": {
          "base_uri": "https://localhost:8080/"
        },
        "id": "DUuzXWrEz6Dz",
        "outputId": "3ed770c2-8f40-4345-b9a7-bcaf01a4e78c"
      },
      "execution_count": null,
      "outputs": [
        {
          "output_type": "stream",
          "name": "stdout",
          "text": [
            "a    1.0\n",
            "b    2.0\n",
            "c    3.0\n",
            "d    NaN\n",
            "Name: one, dtype: float64\n"
          ]
        }
      ]
    },
    {
      "cell_type": "code",
      "source": [
        "import pandas as pd\n",
        "d= {'one' : pd.Series([1, 2, 3], index=['a', 'b', 'c']), \n",
        "'two' : pd.Series([1, 2, 3, 4], index=['a', 'b', 'c', 'd'])}\n",
        "df= pd.DataFrame(d)\n",
        "print (\"Adding a new column by passing as Series:\")\n",
        "df['three']=pd.Series([10,20,30],index=['a','b','c'])\n",
        "print(df)\n",
        "print (\"Adding a new column using the existing columns in DataFrame:\")\n",
        "df['four']=df['one']+df['three']\n",
        "print(df)"
      ],
      "metadata": {
        "colab": {
          "base_uri": "https://localhost:8080/"
        },
        "id": "6dpoSDr80Bxo",
        "outputId": "9a2a20e3-173a-4348-bffe-3b5ac98cc14a"
      },
      "execution_count": null,
      "outputs": [
        {
          "output_type": "stream",
          "name": "stdout",
          "text": [
            "Adding a new column by passing as Series:\n",
            "   one  two  three\n",
            "a  1.0    1   10.0\n",
            "b  2.0    2   20.0\n",
            "c  3.0    3   30.0\n",
            "d  NaN    4    NaN\n",
            "Adding a new column using the existing columns in DataFrame:\n",
            "   one  two  three  four\n",
            "a  1.0    1   10.0  11.0\n",
            "b  2.0    2   20.0  22.0\n",
            "c  3.0    3   30.0  33.0\n",
            "d  NaN    4    NaN   NaN\n"
          ]
        }
      ]
    },
    {
      "cell_type": "code",
      "source": [
        "import pandas as pd\n",
        "d= {'one' : pd.Series([1, 2, 3], index=['a', 'b', 'c']),\n",
        "'two' : pd.Series([1, 2, 3, 4], index=['a', 'b', 'c', 'd']),\n",
        "'three' : pd.Series([10,20,30], index=['a','b','c'])}\n",
        "df= pd.DataFrame(d)\n",
        "print(\"Our dataframe is:\")\n",
        "print(df)\n",
        "print(\"Deleting the first column using DEL function:\")\n",
        "del df['one']\n",
        "print(df )\n",
        "print (\"Deleting another column using POP function:\")\n",
        "df.pop('two')\n",
        "print(df )"
      ],
      "metadata": {
        "colab": {
          "base_uri": "https://localhost:8080/"
        },
        "id": "NNR90Aug0Lag",
        "outputId": "11ab8899-0e99-48f4-fb4f-d86323afa4fe"
      },
      "execution_count": null,
      "outputs": [
        {
          "output_type": "stream",
          "name": "stdout",
          "text": [
            "Our dataframe is:\n",
            "   one  two  three\n",
            "a  1.0    1   10.0\n",
            "b  2.0    2   20.0\n",
            "c  3.0    3   30.0\n",
            "d  NaN    4    NaN\n",
            "Deleting the first column using DEL function:\n",
            "   two  three\n",
            "a    1   10.0\n",
            "b    2   20.0\n",
            "c    3   30.0\n",
            "d    4    NaN\n",
            "Deleting another column using POP function:\n",
            "   three\n",
            "a   10.0\n",
            "b   20.0\n",
            "c   30.0\n",
            "d    NaN\n"
          ]
        }
      ]
    },
    {
      "cell_type": "code",
      "source": [
        "import pandas as pd\n",
        "import numpy as np\n",
        "s= pd.Series(np.random.randn(4))\n",
        "print(\"The axes are:\")\n",
        "print(s.axes)"
      ],
      "metadata": {
        "colab": {
          "base_uri": "https://localhost:8080/"
        },
        "id": "ztsEiIL-0vbe",
        "outputId": "ccd3191f-a3db-4276-f6ef-d2cbf16d8038"
      },
      "execution_count": null,
      "outputs": [
        {
          "output_type": "stream",
          "name": "stdout",
          "text": [
            "The axes are:\n",
            "[RangeIndex(start=0, stop=4, step=1)]\n"
          ]
        }
      ]
    },
    {
      "cell_type": "code",
      "source": [
        "import pandas as pd\n",
        "import numpy as np\n",
        "s= pd.Series(np.random.randn(4))\n",
        "print (\"Is the Object empty?\")\n",
        "print(s.empty)"
      ],
      "metadata": {
        "colab": {
          "base_uri": "https://localhost:8080/"
        },
        "id": "-LaZdN2Q1QmB",
        "outputId": "4f8aab23-da0d-4e68-9799-ba30cbdcec16"
      },
      "execution_count": null,
      "outputs": [
        {
          "output_type": "stream",
          "name": "stdout",
          "text": [
            "Is the Object empty?\n",
            "False\n"
          ]
        }
      ]
    },
    {
      "cell_type": "code",
      "source": [
        "import pandas as pd\n",
        "import numpy as np\n",
        "s= pd.Series(np.random.randn(4))\n",
        "print(s)\n",
        "print (\"The dimensions of the object:\")\n",
        "print (s.ndim)"
      ],
      "metadata": {
        "colab": {
          "base_uri": "https://localhost:8080/"
        },
        "id": "F2kcC1ZR2UfD",
        "outputId": "79b8bf06-d8c9-4d35-b2dc-de1505933a21"
      },
      "execution_count": null,
      "outputs": [
        {
          "output_type": "stream",
          "name": "stdout",
          "text": [
            "0    0.720868\n",
            "1   -0.256137\n",
            "2   -0.155824\n",
            "3   -0.717241\n",
            "dtype: float64\n",
            "The dimensions of the object:\n",
            "1\n"
          ]
        }
      ]
    },
    {
      "cell_type": "code",
      "source": [
        "import pandas as pd\n",
        "import numpy as np\n",
        "s= pd.Series(np.random.randn(2))\n",
        "print(s)\n",
        "print(\"The size of the object:\")\n",
        "print(s.size)"
      ],
      "metadata": {
        "colab": {
          "base_uri": "https://localhost:8080/"
        },
        "id": "dQA8zCUp235L",
        "outputId": "6c8d77a9-815b-4fd0-8fb8-c23343417afe"
      },
      "execution_count": null,
      "outputs": [
        {
          "output_type": "stream",
          "name": "stdout",
          "text": [
            "0   -0.020640\n",
            "1    0.407616\n",
            "dtype: float64\n",
            "The size of the object:\n",
            "2\n"
          ]
        }
      ]
    },
    {
      "cell_type": "code",
      "source": [
        "import pandas as pd\n",
        "import numpy as np\n",
        "#Create a series with 4 random numbers\n",
        "s= pd.Series(np.random.randn(4))\n",
        "print(s)\n",
        "print(\"The actual data series is:\")\n",
        "print(s.values)"
      ],
      "metadata": {
        "colab": {
          "base_uri": "https://localhost:8080/"
        },
        "id": "6S-c7uZa3EQx",
        "outputId": "a3b2c632-68c6-4320-bc33-6e67ef183591"
      },
      "execution_count": null,
      "outputs": [
        {
          "output_type": "stream",
          "name": "stdout",
          "text": [
            "0   -0.966537\n",
            "1    0.347826\n",
            "2    0.452702\n",
            "3    0.389732\n",
            "dtype: float64\n",
            "The actual data series is:\n",
            "[-0.96653746  0.34782571  0.45270166  0.38973175]\n"
          ]
        }
      ]
    },
    {
      "cell_type": "code",
      "source": [
        "import pandas as pd\n",
        "import numpy as np\n",
        "s= pd.Series(np.random.randn(4))\n",
        "print (\"The original series is:\")\n",
        "print(s)\n",
        "print (\"The first two rows of the data series:\")\n",
        "print(s.head(2))\n",
        "print(s.tail(2))"
      ],
      "metadata": {
        "colab": {
          "base_uri": "https://localhost:8080/"
        },
        "id": "9Bgt7sc43X-M",
        "outputId": "83a97555-80d1-40b2-def3-f4c85b41ca89"
      },
      "execution_count": null,
      "outputs": [
        {
          "output_type": "stream",
          "name": "stdout",
          "text": [
            "The original series is:\n",
            "0    0.222649\n",
            "1   -0.589831\n",
            "2   -2.189133\n",
            "3    0.710550\n",
            "dtype: float64\n",
            "The first two rows of the data series:\n",
            "0    0.222649\n",
            "1   -0.589831\n",
            "dtype: float64\n",
            "2   -2.189133\n",
            "3    0.710550\n",
            "dtype: float64\n"
          ]
        }
      ]
    },
    {
      "cell_type": "code",
      "source": [
        "import pandas as pd\n",
        "import numpy as np\n",
        "d= {'Name':pd.Series(['Tom','James','Ricky','Vin','Steve','Smith','Jack']),\n",
        "'Age':pd.Series([25,26,25,23,30,29,23]),\n",
        "'Rating':pd.Series([4.23,3.24,3.98,2.56,3.20,4.6,3.8])}\n",
        "df= pd.DataFrame(d)\n",
        "print (\"The transpose of the data series is:\")\n",
        "print(df.T)"
      ],
      "metadata": {
        "colab": {
          "base_uri": "https://localhost:8080/"
        },
        "id": "VkC2LPdR3nOO",
        "outputId": "5b8010ce-7da6-44b1-cfeb-7201dbcba917"
      },
      "execution_count": null,
      "outputs": [
        {
          "output_type": "stream",
          "name": "stdout",
          "text": [
            "The transpose of the data series is:\n",
            "           0      1      2     3      4      5     6\n",
            "Name     Tom  James  Ricky   Vin  Steve  Smith  Jack\n",
            "Age       25     26     25    23     30     29    23\n",
            "Rating  4.23   3.24   3.98  2.56    3.2    4.6   3.8\n"
          ]
        }
      ]
    },
    {
      "cell_type": "code",
      "source": [
        "import pandas as pd\n",
        "import numpy as np\n",
        "d={'Name':pd.Series(['Tom','James','Ricky','Vin','Steve','Smith','Jack']),\n",
        "'Age':pd.Series([25,26,25,23,30,29,23]),\n",
        "'Rating':pd.Series([4.23,3.24,3.98,2.56,3.20,4.6,3.8])}\n",
        "df= pd.DataFrame(d)\n",
        "print(\"Row axis labels and column axis labels are:\")\n",
        "print(df.axes)"
      ],
      "metadata": {
        "colab": {
          "base_uri": "https://localhost:8080/"
        },
        "id": "LH7UG7k73wGF",
        "outputId": "4288239b-6535-4232-bdb4-66d13fb3a947"
      },
      "execution_count": null,
      "outputs": [
        {
          "output_type": "stream",
          "name": "stdout",
          "text": [
            "Row axis labels and column axis labels are:\n",
            "[RangeIndex(start=0, stop=7, step=1), Index(['Name', 'Age', 'Rating'], dtype='object')]\n"
          ]
        }
      ]
    },
    {
      "cell_type": "code",
      "source": [
        "import pandas as pd\n",
        "import numpy as np\n",
        "d= {'Name':pd.Series(['Tom','James','Ricky','Vin','Steve','Smith','Jack']),\n",
        "'Age':pd.Series([25,26,25,23,30,29,23]),\n",
        "'Rating':pd.Series([4.23,3.24,3.98,2.56,3.20,4.6,3.8])}\n",
        "df= pd.DataFrame(d)\n",
        "print (\"The data types of each column are:\")\n",
        "print(df.dtypes )"
      ],
      "metadata": {
        "colab": {
          "base_uri": "https://localhost:8080/"
        },
        "id": "9w_CmlSU39V2",
        "outputId": "17c2ced2-d33b-4b36-949c-851f48568a60"
      },
      "execution_count": null,
      "outputs": [
        {
          "output_type": "stream",
          "name": "stdout",
          "text": [
            "The data types of each column are:\n",
            "Name       object\n",
            "Age         int64\n",
            "Rating    float64\n",
            "dtype: object\n"
          ]
        }
      ]
    },
    {
      "cell_type": "code",
      "source": [
        "import pandas as pd\n",
        "import numpy as np\n",
        "d= {'Name':pd.Series(['Tom','James','Ricky','Vin','Steve','Smith','Jack']),\n",
        "'Age':pd.Series([25,26,25,23,30,29,23]),\n",
        "'Rating':pd.Series([4.23,3.24,3.98,2.56,3.20,4.6,3.8])}\n",
        "df= pd.DataFrame(d)\n",
        "print (\"Our object is:\")\n",
        "print(df)\n",
        "print (\"The shape of the object is:\")\n",
        "print(df.shape)"
      ],
      "metadata": {
        "colab": {
          "base_uri": "https://localhost:8080/"
        },
        "id": "64U7VEVF4m_2",
        "outputId": "c411122a-4653-41d9-ba52-b8fdc25ee56a"
      },
      "execution_count": null,
      "outputs": [
        {
          "output_type": "stream",
          "name": "stdout",
          "text": [
            "Our object is:\n",
            "    Name  Age  Rating\n",
            "0    Tom   25    4.23\n",
            "1  James   26    3.24\n",
            "2  Ricky   25    3.98\n",
            "3    Vin   23    2.56\n",
            "4  Steve   30    3.20\n",
            "5  Smith   29    4.60\n",
            "6   Jack   23    3.80\n",
            "The shape of the object is:\n",
            "(7, 3)\n"
          ]
        }
      ]
    },
    {
      "cell_type": "code",
      "source": [
        "import pandas as pd\n",
        "import numpy as np\n",
        "d= {'Name':pd.Series(['Tom','James','Ricky','Vin','Steve','Smith','Jack']),\n",
        "'Age':pd.Series([25,26,25,23,30,29,23]),\n",
        "'Rating':pd.Series([4.23,3.24,3.98,2.56,3.20,4.6,3.8])}\n",
        "df= pd.DataFrame(d)\n",
        "print (\"Our object is:\")\n",
        "print(df)\n",
        "print (\"The total number of elements in our object is:\")\n",
        "print(df.size)"
      ],
      "metadata": {
        "colab": {
          "base_uri": "https://localhost:8080/"
        },
        "id": "2eU7U1o94wOt",
        "outputId": "858bcf2c-2f3c-4307-c0ac-c76e4a73a1db"
      },
      "execution_count": null,
      "outputs": [
        {
          "output_type": "stream",
          "name": "stdout",
          "text": [
            "Our object is:\n",
            "    Name  Age  Rating\n",
            "0    Tom   25    4.23\n",
            "1  James   26    3.24\n",
            "2  Ricky   25    3.98\n",
            "3    Vin   23    2.56\n",
            "4  Steve   30    3.20\n",
            "5  Smith   29    4.60\n",
            "6   Jack   23    3.80\n",
            "The total number of elements in our object is:\n",
            "21\n"
          ]
        }
      ]
    },
    {
      "cell_type": "code",
      "source": [
        "import pandas as pd\n",
        "import numpy as np\n",
        "d= {'Name':pd.Series(['Tom','James','Ricky','Vin','Steve','Smith','Jack']),\n",
        "'Age':pd.Series([25,26,25,23,30,29,23]),\n",
        "'Rating':pd.Series([4.23,3.24,3.98,2.56,3.20,4.6,3.8])}\n",
        "df= pd.DataFrame(d)\n",
        "print (\"Our object is:\")\n",
        "print(df)\n",
        "print (\"The actual data in our data frame is:\")\n",
        "print(df.values)"
      ],
      "metadata": {
        "colab": {
          "base_uri": "https://localhost:8080/"
        },
        "id": "BYLNpD10465u",
        "outputId": "43ed22b7-d3d7-4120-f0ba-cb4126f8a144"
      },
      "execution_count": null,
      "outputs": [
        {
          "output_type": "stream",
          "name": "stdout",
          "text": [
            "Our object is:\n",
            "    Name  Age  Rating\n",
            "0    Tom   25    4.23\n",
            "1  James   26    3.24\n",
            "2  Ricky   25    3.98\n",
            "3    Vin   23    2.56\n",
            "4  Steve   30    3.20\n",
            "5  Smith   29    4.60\n",
            "6   Jack   23    3.80\n",
            "The actual data in our data frame is:\n",
            "[['Tom' 25 4.23]\n",
            " ['James' 26 3.24]\n",
            " ['Ricky' 25 3.98]\n",
            " ['Vin' 23 2.56]\n",
            " ['Steve' 30 3.2]\n",
            " ['Smith' 29 4.6]\n",
            " ['Jack' 23 3.8]]\n"
          ]
        }
      ]
    },
    {
      "cell_type": "code",
      "source": [
        "import pandas as pd\n",
        "import numpy as np\n",
        "d= {'Name':pd.Series(['Tom','James','Ricky','Vin','Steve','Smith','Jack']),\n",
        "'Age':pd.Series([25,26,25,23,30,29,23]),\n",
        "'Rating':pd.Series([4.23,3.24,3.98,2.56,3.20,4.6,3.8])}\n",
        "df= pd.DataFrame(d)\n",
        "print (\"Our data frame is:\")\n",
        "print (df)\n",
        "print (\"The first two rows of the data frame is:\")\n",
        "print(df.head(2))\n",
        "print(df.tail(2))"
      ],
      "metadata": {
        "colab": {
          "base_uri": "https://localhost:8080/"
        },
        "id": "-7NFq_Iv5EOD",
        "outputId": "554be650-1431-40f2-f254-4fe49c5fca8a"
      },
      "execution_count": null,
      "outputs": [
        {
          "output_type": "stream",
          "name": "stdout",
          "text": [
            "Our data frame is:\n",
            "    Name  Age  Rating\n",
            "0    Tom   25    4.23\n",
            "1  James   26    3.24\n",
            "2  Ricky   25    3.98\n",
            "3    Vin   23    2.56\n",
            "4  Steve   30    3.20\n",
            "5  Smith   29    4.60\n",
            "6   Jack   23    3.80\n",
            "The first two rows of the data frame is:\n",
            "    Name  Age  Rating\n",
            "0    Tom   25    4.23\n",
            "1  James   26    3.24\n",
            "    Name  Age  Rating\n",
            "5  Smith   29     4.6\n",
            "6   Jack   23     3.8\n"
          ]
        }
      ]
    },
    {
      "cell_type": "code",
      "source": [],
      "metadata": {
        "id": "wT4BzSBR5Pom"
      },
      "execution_count": null,
      "outputs": []
    }
  ],
  "metadata": {
    "colab": {
      "provenance": [],
      "authorship_tag": "ABX9TyPPS4mI/iK7x6i8N2dgFdyL",
      "include_colab_link": true
    },
    "kernelspec": {
      "display_name": "Python 3",
      "name": "python3"
    },
    "language_info": {
      "name": "python"
    }
  },
  "nbformat": 4,
  "nbformat_minor": 0
}